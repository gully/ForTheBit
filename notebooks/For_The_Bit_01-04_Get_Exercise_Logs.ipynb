{
 "cells": [
  {
   "cell_type": "markdown",
   "metadata": {},
   "source": [
    "<!--NAVIGATION-->\n",
    "< [Merge Daily JSON into DataFrame](For_The_Bit_01-03_Merge_Daily_JSON_into_DataFrame.ipynb) | [Contents](For_The_Bit_00-Introduction.ipynb) | [Add Exercise Flags to Intraday](For_The_Bit_01-05_Add_Exercise_Flags_to_Intraday.ipynb) >"
   ]
  },
  {
   "cell_type": "markdown",
   "metadata": {},
   "source": [
    "# For The Bit\n",
    "\n",
    "## 1 - Getting my `fitbit` data \n",
    "\n",
    "### Part IV.  Programmatically fetch all exercise logs\n",
    "\n",
    "The exercise logs contain information about runs, bike rides, hikes, workouts, yoga sessions-- or any other type of activity currently supported through `fitbit`.  Most activities (for me at least) are triggered by the user-- that is I toggled my Charge 2 to the activity menu and then select an activity.  However, some activities are automatically classified, like walks and runs.  These automatically classified activities do no have associated GPS information, but otherwise behave the same as far as the API is concerned."
   ]
  },
  {
   "cell_type": "code",
   "execution_count": 1,
   "metadata": {
    "collapsed": true
   },
   "outputs": [],
   "source": [
    "import json\n",
    "import pandas as pd\n",
    "import requests\n",
    "import os.path\n",
    "import time"
   ]
  },
  {
   "cell_type": "markdown",
   "metadata": {},
   "source": [
    "From my API access code (this is a secret!)"
   ]
  },
  {
   "cell_type": "code",
   "execution_count": 2,
   "metadata": {
    "collapsed": true
   },
   "outputs": [],
   "source": [
    "with open('../curl_key.txt', 'r') as f:\n",
    "    secret_key = f.readline()"
   ]
  },
  {
   "cell_type": "code",
   "execution_count": 3,
   "metadata": {
    "collapsed": true
   },
   "outputs": [],
   "source": [
    "headers = {'Authorization': 'Bearer {}'.format(secret_key)}"
   ]
  },
  {
   "cell_type": "markdown",
   "metadata": {},
   "source": [
    "Mimic a directory structure for each user, with subdirectories as below:"
   ]
  },
  {
   "cell_type": "code",
   "execution_count": 4,
   "metadata": {
    "collapsed": false
   },
   "outputs": [
    {
     "name": "stdout",
     "output_type": "stream",
     "text": [
      "\u001b[01;34m../data/gully/\u001b[00m\r\n",
      "├── \u001b[01;34mexercise\u001b[00m\r\n",
      "│   ├── \u001b[01;34mHR\u001b[00m\r\n",
      "│   ├── \u001b[01;34mlogs\u001b[00m\r\n",
      "│   └── \u001b[01;34mtcx\u001b[00m\r\n",
      "├── \u001b[01;34mintraday\u001b[00m\r\n",
      "│   ├── \u001b[01;34mHR\u001b[00m\r\n",
      "│   ├── \u001b[01;34msleep\u001b[00m\r\n",
      "│   └── \u001b[01;34msteps\u001b[00m\r\n",
      "└── \u001b[01;34mweight\u001b[00m\r\n",
      "    ├── \u001b[01;34mlogs\u001b[00m\r\n",
      "    └── \u001b[01;34mts\u001b[00m\r\n",
      "\r\n",
      "11 directories\r\n"
     ]
    }
   ],
   "source": [
    "! tree -d ../data/gully/"
   ]
  },
  {
   "cell_type": "markdown",
   "metadata": {},
   "source": [
    "I think there's only one list of all activities ever performed.  The API call is:"
   ]
  },
  {
   "cell_type": "markdown",
   "metadata": {},
   "source": [
    "`https://api.fitbit.com/1/user/-/activities/list.json`"
   ]
  },
  {
   "cell_type": "markdown",
   "metadata": {},
   "source": [
    "Employ a file naming convention that preserves metadata:  \n",
    "- **exercise\\_log\\_{running\\_number}\\_{logid}.json**  "
   ]
  },
  {
   "cell_type": "markdown",
   "metadata": {},
   "source": [
    "Where `running_number` is a made up index padded with 5 leading zeros starting at 00000 for my first ever activity.  \n",
    "The `logid` is from the API query itself, and is also the number used to request the `TCX`."
   ]
  },
  {
   "cell_type": "markdown",
   "metadata": {},
   "source": [
    "### Make a big *while* loop, download"
   ]
  },
  {
   "cell_type": "markdown",
   "metadata": {},
   "source": [
    "The structure of this API call is a little different than it was for the intraday data.  The default is to return a *paginated* list of exercise activities.  I think the best strategy for now is to avoid this paginated structure, and simply have a unique json file for each exercise activity log.  This will make it easier to match exercise activities and `gpx` data later on, for example.  So the strategy here should be to perform our first query \"blind\", then all subsequent queries should use the `pagination` keyword to find the next exercise activity."
   ]
  },
  {
   "cell_type": "code",
   "execution_count": 5,
   "metadata": {
    "collapsed": true
   },
   "outputs": [],
   "source": [
    "#! rm ../data/gully/exercise/activity_list.json"
   ]
  },
  {
   "cell_type": "markdown",
   "metadata": {},
   "source": [
    "I got my Charge 2 on: `2016-12-17`"
   ]
  },
  {
   "cell_type": "code",
   "execution_count": 6,
   "metadata": {
    "collapsed": true
   },
   "outputs": [],
   "source": [
    "params =  {'user-id':'-',\n",
    "           'afterDate':'2016-12-16T00:00:00',\n",
    "           'sort':'asc',\n",
    "           'limit':'1',\n",
    "           'offset':'0'}"
   ]
  },
  {
   "cell_type": "markdown",
   "metadata": {},
   "source": [
    "Zeroth query."
   ]
  },
  {
   "cell_type": "markdown",
   "metadata": {},
   "source": [
    "### Get the most recent exercise date"
   ]
  },
  {
   "cell_type": "markdown",
   "metadata": {},
   "source": [
    "After you already have one file, you can make downloads relative to the most recent log, to avoid repeat downloading."
   ]
  },
  {
   "cell_type": "code",
   "execution_count": 7,
   "metadata": {
    "collapsed": true
   },
   "outputs": [],
   "source": [
    "lsdir = os.listdir('../data/gully/exercise/logs/')"
   ]
  },
  {
   "cell_type": "code",
   "execution_count": 8,
   "metadata": {
    "collapsed": false
   },
   "outputs": [],
   "source": [
    "most_recent_log = lsdir[-1]"
   ]
  },
  {
   "cell_type": "code",
   "execution_count": 9,
   "metadata": {
    "collapsed": false
   },
   "outputs": [
    {
     "data": {
      "text/plain": [
       "'exercise_log_7439891935.json'"
      ]
     },
     "execution_count": 9,
     "metadata": {},
     "output_type": "execute_result"
    }
   ],
   "source": [
    "most_recent_log"
   ]
  },
  {
   "cell_type": "code",
   "execution_count": 10,
   "metadata": {
    "collapsed": false
   },
   "outputs": [],
   "source": [
    "with open('../data/gully/exercise/logs/{}'.format(most_recent_log)) as f:\n",
    "    mr_json = json.load(f)\n",
    "\n",
    "st = mr_json['activities'][0]['startTime']\n",
    "afterDate = st[:-10]\n",
    "params['afterDate'] = afterDate"
   ]
  },
  {
   "cell_type": "markdown",
   "metadata": {},
   "source": [
    "Get the *next* most recent:"
   ]
  },
  {
   "cell_type": "code",
   "execution_count": 11,
   "metadata": {
    "collapsed": false
   },
   "outputs": [
    {
     "name": "stdout",
     "output_type": "stream",
     "text": [
      "exercise_log_7439891935.json 200\n"
     ]
    }
   ],
   "source": [
    "query_str = 'https://api.fitbit.com/1/user/-/activities/list.json'\n",
    "# Only make a query if we don't already have the file.\n",
    "response = requests.get(query_str, params=params, headers=headers)\n",
    "logId = response.json()['activities'][0]['logId']\n",
    "local_file = 'exercise_log_{}.json'.format(logId)\n",
    "full_path = '../data/gully/exercise/logs/'+local_file\n",
    "print(local_file, response.status_code)\n",
    "with open(full_path, 'w') as f:\n",
    "    json.dump(response.json(), f)"
   ]
  },
  {
   "cell_type": "code",
   "execution_count": 12,
   "metadata": {
    "collapsed": false
   },
   "outputs": [],
   "source": [
    "while response.json()['pagination']['next'] != '':\n",
    "    query_str = response.json()['pagination']['next']\n",
    "    response = requests.get(query_str, headers=headers)\n",
    "    logId = response.json()['activities'][0]['logId']\n",
    "    local_file = 'exercise_log_{}.json'.format(logId)\n",
    "    full_path = '../data/gully/exercise/logs/'+local_file\n",
    "    print(local_file, response.status_code)\n",
    "    with open(full_path, 'w') as f:\n",
    "        json.dump(response.json(), f)"
   ]
  },
  {
   "cell_type": "markdown",
   "metadata": {},
   "source": [
    "The end."
   ]
  }
 ],
 "metadata": {
  "kernelspec": {
   "display_name": "Python 3",
   "language": "python",
   "name": "python3"
  },
  "language_info": {
   "codemirror_mode": {
    "name": "ipython",
    "version": 3
   },
   "file_extension": ".py",
   "mimetype": "text/x-python",
   "name": "python",
   "nbconvert_exporter": "python",
   "pygments_lexer": "ipython3",
   "version": "3.4.5"
  }
 },
 "nbformat": 4,
 "nbformat_minor": 0
}
