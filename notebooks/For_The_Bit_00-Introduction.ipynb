{
 "cells": [
  {
   "cell_type": "markdown",
   "metadata": {},
   "source": [
    "<!--NAVIGATION-->\n",
    "| [Contents](For_The_Bit_00-Introduction.ipynb) | [Getting your `fitbit` data: experiments with `curl`](For_The_Bit_01-01_Preliminaries_and_API_with_curl.ipynb) >"
   ]
  },
  {
   "cell_type": "markdown",
   "metadata": {},
   "source": [
    "# For The Bit\n",
    "\n",
    "## Overview\n",
    "My `fitbit` data contains my heart rate, step count, and sleep status for almost every minute since December 17, 2016, when I got the Charge 2 as a Christmas gift.  At the time of writing, that timespan corresponds to $\\sim194,400$ minutes of nearly continuous data.  That's a lot of minutes!  The awesome `fitbit` App covers virtually all of the normal metrics someone would want to know (*ahem* am I beating Julee in the workweek hustle??).  But ultimately the `fitbit` can't derive insights about aspects of my life that it doesn't know about.  Unleashing my `fitbit` data to talk to other data sources can enable transformative story-telling about my (and your) own behavior and fitness.\n",
    "\n",
    "This series of notebooks serves as a demonstration of how to programmatically fetch and analyze all of your `fitbit` data.  The code isn't perfect, but it should be a good start for folks who know Python and some pandas.  Once you get the data into json or csv format (Chapter 1), it should be straight-forward to adapt the rest of the tutorial to a programming language of your choice.\n",
    "\n",
    "The rest of the chapters are still under development as a mere passion project.  The outline below shows you where I'm headed.  I welcome any discussion, encouragement, tips, and feedback about this project.  The most convenient way is probably through GitHub Issues (or Pull Requests!), where this project lives.  The permissive MIT license means that you are free to use any of this code for your personal projects to mine your own `fitbit` data.  I hope you will-- please share your graphs! :)  \n",
    "\n",
    "In summary: **`fitbit` data is awesome!**  "
   ]
  },
  {
   "cell_type": "markdown",
   "metadata": {},
   "source": [
    "## 1. Getting my `fitbit` data "
   ]
  },
  {
   "cell_type": "markdown",
   "metadata": {},
   "source": [
    "- [Preliminaries, and using the `fitbit` API with `curl`](For_The_Bit_01-01_preliminaries_and_API_with_curl.ipynb)\n",
    "- [Fetching with Python `requests`: intraday `fitbit` step, HR, sleep data](For_The_Bit_01-02_Request_All_Intraday_Data.ipynb)\n",
    "- [Extract, transform, and merge local intraday json files into a Python `pandas` time series DataFrame](For_The_Bit_01-03_Merge_Daily_JSON_into_DataFrame.ipynb)\n",
    "- [Programmatically fetching exercise logs](For_The_Bit_01-04_Get_Exercise_Logs.ipynb)\n",
    "- [Adding an exercise flag to the intraday time series DataFrame](For_The_Bit_01-05_Add_Exercise_Flags_to_Intraday.ipynb)\n",
    "- [Programmatically fetching weight from `fitbit` Aria logs](For_The_Bit_01-06_Get_Weight_Logs.ipynb)\n",
    "- [Construct a weight measurement time series](For_The_Bit_01-07_Make_Weight_Timeseries.ipynb)"
   ]
  },
  {
   "cell_type": "markdown",
   "metadata": {},
   "source": [
    "## 2. Exploratory analysis of my intraday `fitbit` data"
   ]
  },
  {
   "cell_type": "markdown",
   "metadata": {},
   "source": [
    "- Heart rate as a function of steps\n",
    "- Highlighting Activities with layers\n",
    "- Heart rate folded over the day\n",
    "- Correlation matrix of my days with every-other-day"
   ]
  },
  {
   "cell_type": "markdown",
   "metadata": {},
   "source": [
    "## 3. Modeling the time series\n",
    "\n",
    "- Estimating my stride\n",
    "- Gaussian Processes for time series\n",
    "- Revised resting heart rate"
   ]
  },
  {
   "cell_type": "markdown",
   "metadata": {},
   "source": [
    "## 4. Comparing `fitbit` data to ancillary data sources\n",
    "\n",
    "- Strava: What is the reliability of the optical HR measurement?\n",
    "- Tagging events on a continuous time series\n",
    "\n"
   ]
  },
  {
   "cell_type": "markdown",
   "metadata": {},
   "source": [
    "## 5. Comparing to someone else's `fitbit` data (*with permission!*)"
   ]
  },
  {
   "cell_type": "markdown",
   "metadata": {},
   "source": [
    "- Fetching your friend's data\n",
    "- Cross correlation with our step counts: What days were we hanging out?"
   ]
  },
  {
   "cell_type": "code",
   "execution_count": null,
   "metadata": {
    "collapsed": true
   },
   "outputs": [],
   "source": []
  }
 ],
 "metadata": {
  "kernelspec": {
   "display_name": "Python 3",
   "language": "python",
   "name": "python3"
  },
  "language_info": {
   "codemirror_mode": {
    "name": "ipython",
    "version": 3
   },
   "file_extension": ".py",
   "mimetype": "text/x-python",
   "name": "python",
   "nbconvert_exporter": "python",
   "pygments_lexer": "ipython3",
   "version": "3.4.5"
  }
 },
 "nbformat": 4,
 "nbformat_minor": 0
}
