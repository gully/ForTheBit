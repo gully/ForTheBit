{
 "cells": [
  {
   "cell_type": "markdown",
   "metadata": {},
   "source": [
    "<!--NAVIGATION-->\n",
    "< [Get Weight Logs](For_The_Bit_01-04_Get_Exercise_Logs.ipynb) | [Contents](For_The_Bit_00-Introduction.ipynb) |"
   ]
  },
  {
   "cell_type": "markdown",
   "metadata": {},
   "source": [
    "# For The Bit\n",
    "\n",
    "## 1. Getting my `fitbit` data\n",
    "### Part VI: Construct weight measurement time series\n",
    "\n",
    "The `fitbit` API provides a time series endpoint, but it does not have the native high precision time stamp.  In this notebook we use the `fitbit` weight and body fat % logs to construct our own native time series of weight and body fat %."
   ]
  },
  {
   "cell_type": "code",
   "execution_count": 1,
   "metadata": {
    "collapsed": true
   },
   "outputs": [],
   "source": [
    "import pandas as pd\n",
    "import json\n",
    "import datetime\n",
    "import dateutil\n",
    "import os"
   ]
  },
  {
   "cell_type": "markdown",
   "metadata": {},
   "source": [
    "### Make a table of all log measurements"
   ]
  },
  {
   "cell_type": "markdown",
   "metadata": {},
   "source": [
    "Unfortunately I store both log types in the same directory.  Half the files are weight, half a fat percentage."
   ]
  },
  {
   "cell_type": "code",
   "execution_count": 4,
   "metadata": {
    "collapsed": true
   },
   "outputs": [],
   "source": [
    "w_dir = '../data/gully/weight/logs/'\n",
    "flist = os.listdir(w_dir)"
   ]
  },
  {
   "cell_type": "code",
   "execution_count": 5,
   "metadata": {
    "collapsed": false
   },
   "outputs": [],
   "source": [
    "n_files = len(flist)"
   ]
  },
  {
   "cell_type": "code",
   "execution_count": 6,
   "metadata": {
    "collapsed": false
   },
   "outputs": [],
   "source": [
    "f_files, w_files = flist[0:n_files//2], flist[n_files//2:]"
   ]
  },
  {
   "cell_type": "markdown",
   "metadata": {},
   "source": [
    "### Weight logs"
   ]
  },
  {
   "cell_type": "code",
   "execution_count": 7,
   "metadata": {
    "collapsed": true
   },
   "outputs": [],
   "source": [
    "weight_df = pd.DataFrame()"
   ]
  },
  {
   "cell_type": "code",
   "execution_count": 8,
   "metadata": {
    "collapsed": false
   },
   "outputs": [],
   "source": [
    "for i, file in enumerate(w_files):\n",
    "    \n",
    "    with open(w_dir + file, 'r') as f:\n",
    "        this_json = json.load(f)\n",
    "    \n",
    "    n_ids = len(this_json['weight'])\n",
    "    for n in range(n_ids):\n",
    "        weight_df = weight_df.append(pd.Series(this_json['weight'][n]), ignore_index=True)"
   ]
  },
  {
   "cell_type": "code",
   "execution_count": 9,
   "metadata": {
    "collapsed": false
   },
   "outputs": [
    {
     "data": {
      "text/html": [
       "<div>\n",
       "<table border=\"1\" class=\"dataframe\">\n",
       "  <thead>\n",
       "    <tr style=\"text-align: right;\">\n",
       "      <th></th>\n",
       "      <th>bmi</th>\n",
       "      <th>date</th>\n",
       "      <th>fat</th>\n",
       "      <th>logId</th>\n",
       "      <th>source</th>\n",
       "      <th>time</th>\n",
       "      <th>weight</th>\n",
       "    </tr>\n",
       "  </thead>\n",
       "  <tbody>\n",
       "    <tr>\n",
       "      <th>0</th>\n",
       "      <td>23.47</td>\n",
       "      <td>2017-03-13</td>\n",
       "      <td>17.046000</td>\n",
       "      <td>1.489442e+12</td>\n",
       "      <td>Aria</td>\n",
       "      <td>21:58:28</td>\n",
       "      <td>67.8</td>\n",
       "    </tr>\n",
       "    <tr>\n",
       "      <th>1</th>\n",
       "      <td>23.45</td>\n",
       "      <td>2017-03-13</td>\n",
       "      <td>16.677999</td>\n",
       "      <td>1.489442e+12</td>\n",
       "      <td>Aria</td>\n",
       "      <td>22:00:57</td>\n",
       "      <td>67.7</td>\n",
       "    </tr>\n",
       "    <tr>\n",
       "      <th>2</th>\n",
       "      <td>23.45</td>\n",
       "      <td>2017-03-13</td>\n",
       "      <td>16.611000</td>\n",
       "      <td>1.489448e+12</td>\n",
       "      <td>Aria</td>\n",
       "      <td>23:30:33</td>\n",
       "      <td>67.7</td>\n",
       "    </tr>\n",
       "    <tr>\n",
       "      <th>3</th>\n",
       "      <td>23.16</td>\n",
       "      <td>2017-03-14</td>\n",
       "      <td>16.728001</td>\n",
       "      <td>1.489472e+12</td>\n",
       "      <td>Aria</td>\n",
       "      <td>06:21:35</td>\n",
       "      <td>66.9</td>\n",
       "    </tr>\n",
       "    <tr>\n",
       "      <th>4</th>\n",
       "      <td>23.42</td>\n",
       "      <td>2017-03-14</td>\n",
       "      <td>16.240000</td>\n",
       "      <td>1.489526e+12</td>\n",
       "      <td>Aria</td>\n",
       "      <td>21:13:59</td>\n",
       "      <td>67.6</td>\n",
       "    </tr>\n",
       "  </tbody>\n",
       "</table>\n",
       "</div>"
      ],
      "text/plain": [
       "     bmi        date        fat         logId source      time  weight\n",
       "0  23.47  2017-03-13  17.046000  1.489442e+12   Aria  21:58:28    67.8\n",
       "1  23.45  2017-03-13  16.677999  1.489442e+12   Aria  22:00:57    67.7\n",
       "2  23.45  2017-03-13  16.611000  1.489448e+12   Aria  23:30:33    67.7\n",
       "3  23.16  2017-03-14  16.728001  1.489472e+12   Aria  06:21:35    66.9\n",
       "4  23.42  2017-03-14  16.240000  1.489526e+12   Aria  21:13:59    67.6"
      ]
     },
     "execution_count": 9,
     "metadata": {},
     "output_type": "execute_result"
    }
   ],
   "source": [
    "weight_df.head()"
   ]
  },
  {
   "cell_type": "code",
   "execution_count": 10,
   "metadata": {
    "collapsed": true
   },
   "outputs": [],
   "source": [
    "weight_df['weight_lbs'] = weight_df['weight']*2.20462"
   ]
  },
  {
   "cell_type": "code",
   "execution_count": 11,
   "metadata": {
    "collapsed": false
   },
   "outputs": [],
   "source": [
    "weight_df['datetime'] = pd.to_datetime(weight_df.date+' ' +weight_df.time)"
   ]
  },
  {
   "cell_type": "code",
   "execution_count": 12,
   "metadata": {
    "collapsed": false
   },
   "outputs": [
    {
     "data": {
      "text/plain": [
       "(130, 160)"
      ]
     },
     "execution_count": 12,
     "metadata": {},
     "output_type": "execute_result"
    },
    {
     "data": {
      "image/png": "[encoded data removed]",
      "text/plain": [
       "<matplotlib.figure.Figure at 0x11c4e1588>"
      ]
     },
     "metadata": {
      "image/png": {
       "height": 258,
       "width": 374
      }
     },
     "output_type": "display_data"
    }
   ],
   "source": [
    "plt.plot(weight_df.datetime, weight_df.weight_lbs, '.')\n",
    "plt.ylim(130,160)"
   ]
  },
  {
   "cell_type": "code",
   "execution_count": 13,
   "metadata": {
    "collapsed": false
   },
   "outputs": [],
   "source": [
    "weight_df.index = weight_df['datetime']\n",
    "weight_df = weight_df.drop(['datetime', 'weight', 'source', 'date', 'time'], axis=1)\n",
    "weight_df = weight_df[['logId', 'weight_lbs', 'fat', 'bmi']]"
   ]
  },
  {
   "cell_type": "code",
   "execution_count": 14,
   "metadata": {
    "collapsed": false
   },
   "outputs": [
    {
     "data": {
      "text/html": [
       "<div>\n",
       "<table border=\"1\" class=\"dataframe\">\n",
       "  <thead>\n",
       "    <tr style=\"text-align: right;\">\n",
       "      <th></th>\n",
       "      <th>logId</th>\n",
       "      <th>weight_lbs</th>\n",
       "      <th>fat</th>\n",
       "      <th>bmi</th>\n",
       "    </tr>\n",
       "    <tr>\n",
       "      <th>datetime</th>\n",
       "      <th></th>\n",
       "      <th></th>\n",
       "      <th></th>\n",
       "      <th></th>\n",
       "    </tr>\n",
       "  </thead>\n",
       "  <tbody>\n",
       "    <tr>\n",
       "      <th>2017-03-13 21:58:28</th>\n",
       "      <td>1.489442e+12</td>\n",
       "      <td>149.473236</td>\n",
       "      <td>17.046000</td>\n",
       "      <td>23.47</td>\n",
       "    </tr>\n",
       "    <tr>\n",
       "      <th>2017-03-13 22:00:57</th>\n",
       "      <td>1.489442e+12</td>\n",
       "      <td>149.252774</td>\n",
       "      <td>16.677999</td>\n",
       "      <td>23.45</td>\n",
       "    </tr>\n",
       "    <tr>\n",
       "      <th>2017-03-13 23:30:33</th>\n",
       "      <td>1.489448e+12</td>\n",
       "      <td>149.252774</td>\n",
       "      <td>16.611000</td>\n",
       "      <td>23.45</td>\n",
       "    </tr>\n",
       "    <tr>\n",
       "      <th>2017-03-14 06:21:35</th>\n",
       "      <td>1.489472e+12</td>\n",
       "      <td>147.489078</td>\n",
       "      <td>16.728001</td>\n",
       "      <td>23.16</td>\n",
       "    </tr>\n",
       "    <tr>\n",
       "      <th>2017-03-14 21:13:59</th>\n",
       "      <td>1.489526e+12</td>\n",
       "      <td>149.032312</td>\n",
       "      <td>16.240000</td>\n",
       "      <td>23.42</td>\n",
       "    </tr>\n",
       "  </tbody>\n",
       "</table>\n",
       "</div>"
      ],
      "text/plain": [
       "                            logId  weight_lbs        fat    bmi\n",
       "datetime                                                       \n",
       "2017-03-13 21:58:28  1.489442e+12  149.473236  17.046000  23.47\n",
       "2017-03-13 22:00:57  1.489442e+12  149.252774  16.677999  23.45\n",
       "2017-03-13 23:30:33  1.489448e+12  149.252774  16.611000  23.45\n",
       "2017-03-14 06:21:35  1.489472e+12  147.489078  16.728001  23.16\n",
       "2017-03-14 21:13:59  1.489526e+12  149.032312  16.240000  23.42"
      ]
     },
     "execution_count": 14,
     "metadata": {},
     "output_type": "execute_result"
    }
   ],
   "source": [
    "weight_df.head()"
   ]
  },
  {
   "cell_type": "code",
   "execution_count": 15,
   "metadata": {
    "collapsed": true
   },
   "outputs": [],
   "source": [
    "weight_df.to_csv('../data/gully/weight/ts/mgs_weight_ts.csv')"
   ]
  },
  {
   "cell_type": "markdown",
   "metadata": {},
   "source": [
    "## Forward filling the intraday time series?"
   ]
  },
  {
   "cell_type": "markdown",
   "metadata": {},
   "source": [
    "This task is a bit subtle-- if I had weight measurements every minute, I could simply match them to my intraday heart rate data, adding a `weight` column.  In practice, I \"only\" weigh myself a few times a day, so I would need to *forward-fill* the weight, or otherwise perform some sort of interpolation of my weight in between my weigh-ins.  This process, in general, is a matter of inference, which is the subject of Chapter 2-- modeling.  So until I have some robust understanding of my characteristic weight variation, I am going to leave this notebook as a place holder."
   ]
  },
  {
   "cell_type": "code",
   "execution_count": 16,
   "metadata": {
    "collapsed": false
   },
   "outputs": [
    {
     "name": "stderr",
     "output_type": "stream",
     "text": [
      "/anaconda/lib/python3.4/site-packages/statsmodels/nonparametric/kdetools.py:20: VisibleDeprecationWarning: using a non-integer number instead of an integer will result in an error in the future\n",
      "  y = X[:m/2+1] + np.r_[0,X[m/2+1:],0]*1j\n"
     ]
    },
    {
     "data": {
      "text/plain": [
       "<matplotlib.axes._subplots.AxesSubplot at 0x10a48b5f8>"
      ]
     },
     "execution_count": 16,
     "metadata": {},
     "output_type": "execute_result"
    },
    {
     "data": {
      "image/png": "[encoded data removed]",
      "text/plain": [
       "<matplotlib.figure.Figure at 0x1093bfef0>"
      ]
     },
     "metadata": {
      "image/png": {
       "height": 273,
       "width": 384
      }
     },
     "output_type": "display_data"
    }
   ],
   "source": [
    "sns.distplot(weight_df.weight_lbs)"
   ]
  },
  {
   "cell_type": "markdown",
   "metadata": {},
   "source": [
    "Warning: Not each draw is a random draw (I occasionally repeat measurements within a few minutes to gauge variance, not to mention secular trends)."
   ]
  },
  {
   "cell_type": "markdown",
   "metadata": {},
   "source": [
    "## The end."
   ]
  }
 ],
 "metadata": {
  "kernelspec": {
   "display_name": "Python 3",
   "language": "python",
   "name": "python3"
  },
  "language_info": {
   "codemirror_mode": {
    "name": "ipython",
    "version": 3
   },
   "file_extension": ".py",
   "mimetype": "text/x-python",
   "name": "python",
   "nbconvert_exporter": "python",
   "pygments_lexer": "ipython3",
   "version": "3.4.5"
  }
 },
 "nbformat": 4,
 "nbformat_minor": 0
}
