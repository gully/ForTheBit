{
 "cells": [
  {
   "cell_type": "markdown",
   "metadata": {},
   "source": [
    "<!--NAVIGATION-->\n",
    "< [Preliminaries](For_The_Bit_01-01_preliminaries_and_API_with_curl.ipynb) | [Contents](For_The_Bit_00-Introduction.ipynb) | [Merge Local Intraday JSON Files into a Python `pandas` DataFrame](For_The_Bit_01-03_Merge_Daily_JSON_into_DataFrame.ipynb) >"
   ]
  },
  {
   "cell_type": "markdown",
   "metadata": {},
   "source": [
    "# For The Bit\n",
    "\n",
    "## 1 - Getting my `fitbit` data \n",
    "\n",
    "### Part II.  Fetching with Python `requests`: `fitbit` intraday step, HR, sleep data\n",
    "\n",
    "The `fitbit` API only allows 200 API requests per hour! The code presented here is smart enough not to re-download existing files, so that keeps the API calls low.  Still, you might hit the rate limit on the `fitbit` API.  Just be patient and wait an hour if you get a 429 status code.  Better yet, modify the code to wait for you while your `fitbit` monitors your sleep :).\n"
   ]
  },
  {
   "cell_type": "markdown",
   "metadata": {},
   "source": [
    "Now we want to programatically download all the data."
   ]
  },
  {
   "cell_type": "code",
   "execution_count": 1,
   "metadata": {
    "collapsed": true
   },
   "outputs": [],
   "source": [
    "import json\n",
    "import pandas as pd\n",
    "import requests\n",
    "import os.path\n",
    "import time"
   ]
  },
  {
   "cell_type": "markdown",
   "metadata": {},
   "source": [
    "From my API access code (this is a secret!)"
   ]
  },
  {
   "cell_type": "code",
   "execution_count": 2,
   "metadata": {
    "collapsed": true
   },
   "outputs": [],
   "source": [
    "with open('../curl_key.txt', 'r') as f:\n",
    "    secret_key = f.readline()"
   ]
  },
  {
   "cell_type": "code",
   "execution_count": 3,
   "metadata": {
    "collapsed": true
   },
   "outputs": [],
   "source": [
    "headers = {'Authorization': 'Bearer {}'.format(secret_key)}"
   ]
  },
  {
   "cell_type": "markdown",
   "metadata": {},
   "source": [
    "Construct a list of the dates I want.  I got my Charge 2 on: `2016-12-17`"
   ]
  },
  {
   "cell_type": "code",
   "execution_count": 4,
   "metadata": {
    "collapsed": false
   },
   "outputs": [],
   "source": [
    "today = time.strftime(\"%Y-%m-%d\")\n",
    "date_ids = pd.date_range(start='20161217', end=today)\n",
    "date_strs = date_ids.strftime(\"%Y-%m-%d\")"
   ]
  },
  {
   "cell_type": "markdown",
   "metadata": {},
   "source": [
    "Mimic a directory structure for each user, with subdirectories as below:"
   ]
  },
  {
   "cell_type": "code",
   "execution_count": 5,
   "metadata": {
    "collapsed": false
   },
   "outputs": [
    {
     "name": "stdout",
     "output_type": "stream",
     "text": [
      "\u001b[01;34m../data/gully/\u001b[00m\r\n",
      "├── \u001b[01;34mexercise\u001b[00m\r\n",
      "│   ├── \u001b[01;34mHR\u001b[00m\r\n",
      "│   ├── \u001b[01;34mlogs\u001b[00m\r\n",
      "│   └── \u001b[01;34mtcx\u001b[00m\r\n",
      "├── \u001b[01;34mintraday\u001b[00m\r\n",
      "│   ├── \u001b[01;34mHR\u001b[00m\r\n",
      "│   ├── \u001b[01;34msleep\u001b[00m\r\n",
      "│   └── \u001b[01;34msteps\u001b[00m\r\n",
      "└── \u001b[01;34mweight\u001b[00m\r\n",
      "    ├── \u001b[01;34mlogs\u001b[00m\r\n",
      "    └── \u001b[01;34mts\u001b[00m\r\n",
      "\r\n",
      "11 directories\r\n"
     ]
    }
   ],
   "source": [
    "! tree -d ../data/gully/"
   ]
  },
  {
   "cell_type": "markdown",
   "metadata": {},
   "source": [
    "Employ a file naming convention that preserves metadata:  \n",
    "- **{activity}\\_{%Y-%m-%d}\\_{timespan}\\_{time-resolution}.json**  \n",
    "\n",
    "So for example:\n",
    "- steps_2017-01-23_1d_1min.json\n",
    "- HR_2017-01-23_1d_1min.json\n",
    "- sleep_2017-01-23_1d_1min.json"
   ]
  },
  {
   "cell_type": "markdown",
   "metadata": {},
   "source": [
    "### Make a big loop, download"
   ]
  },
  {
   "cell_type": "code",
   "execution_count": 6,
   "metadata": {
    "collapsed": false
   },
   "outputs": [
    {
     "name": "stdout",
     "output_type": "stream",
     "text": [
      "135 steps_2017-05-01_1d_1min.json 200\n"
     ]
    }
   ],
   "source": [
    "for i, date in enumerate(date_strs[:-1]):\n",
    "    query_str = 'https://api.fitbit.com/1/user/-/activities/steps/date/{}/1d/1min.json'.format(date)\n",
    "    local_file = 'steps_'+date+'_1d_1min.json'\n",
    "    full_path = '../data/gully/intraday/steps/'+local_file\n",
    "    # Only make a query if we don't already have the file.\n",
    "    if not os.path.isfile(full_path): \n",
    "        response = requests.get(query_str, headers=headers)\n",
    "        print(i, local_file, response.status_code)\n",
    "        with open(full_path, 'w') as f:\n",
    "            json.dump(response.json(), f)"
   ]
  },
  {
   "cell_type": "markdown",
   "metadata": {},
   "source": [
    "Voilà, it works."
   ]
  },
  {
   "cell_type": "markdown",
   "metadata": {},
   "source": [
    "### Fetch all the heart rate (HR) data."
   ]
  },
  {
   "cell_type": "code",
   "execution_count": 7,
   "metadata": {
    "collapsed": false
   },
   "outputs": [
    {
     "name": "stdout",
     "output_type": "stream",
     "text": [
      "135 HR_2017-05-01_1d_1min.json 200\n"
     ]
    }
   ],
   "source": [
    "for i, date in enumerate(date_strs[:-1]):\n",
    "    query_str = 'https://api.fitbit.com/1/user/-/activities/heart/date/{}/1d/1min.json'.format(date)\n",
    "    local_file = 'HR_'+date+'_1d_1min.json'\n",
    "    full_path = '../data/gully/intraday/HR/'+local_file\n",
    "    # Only make a query if we don't already have the file.\n",
    "    if not os.path.isfile(full_path): \n",
    "        response = requests.get(query_str, headers=headers)\n",
    "        print(i, local_file, response.status_code)\n",
    "        with open(full_path, 'w') as f:\n",
    "            json.dump(response.json(), f)"
   ]
  },
  {
   "cell_type": "markdown",
   "metadata": {},
   "source": [
    "### Fetch all the sleep data."
   ]
  },
  {
   "cell_type": "code",
   "execution_count": 8,
   "metadata": {
    "collapsed": false
   },
   "outputs": [
    {
     "name": "stdout",
     "output_type": "stream",
     "text": [
      "135 sleep_2017-05-01_1d_1min.json 200\n"
     ]
    }
   ],
   "source": [
    "for i, date in enumerate(date_strs[:-1]):\n",
    "    query_str = 'https://api.fitbit.com/1/user/-/sleep/date/{}.json'.format(date)\n",
    "    local_file = 'sleep_'+date+'_1d_1min.json'\n",
    "    full_path = '../data/gully/intraday/sleep/'+local_file\n",
    "    # Only make a query if we don't already have the file.\n",
    "    if not os.path.isfile(full_path): \n",
    "        response = requests.get(query_str, headers=headers)\n",
    "        print(i, local_file, response.status_code)\n",
    "        with open(full_path, 'w') as f:\n",
    "            json.dump(response.json(), f)"
   ]
  },
  {
   "cell_type": "markdown",
   "metadata": {},
   "source": [
    "All done.  We'll compile and read in the data in the next notebook."
   ]
  }
 ],
 "metadata": {
  "kernelspec": {
   "display_name": "Python 3",
   "language": "python",
   "name": "python3"
  },
  "language_info": {
   "codemirror_mode": {
    "name": "ipython",
    "version": 3
   },
   "file_extension": ".py",
   "mimetype": "text/x-python",
   "name": "python",
   "nbconvert_exporter": "python",
   "pygments_lexer": "ipython3",
   "version": "3.4.5"
  }
 },
 "nbformat": 4,
 "nbformat_minor": 0
}
