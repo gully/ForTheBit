{
 "cells": [
  {
   "cell_type": "markdown",
   "metadata": {},
   "source": [
    "<!--NAVIGATION-->\n",
    "< [Add Exercise Flags to Intraday](For_The_Bit_01-05_Add_Exercise_Flags_to_Intraday.ipynb) | [Contents](For_The_Bit_00-Introduction.ipynb) | [Make Weight Time Series](For_The_Bit_01-07_Make_Weight_Timeseries.ipynb) >"
   ]
  },
  {
   "cell_type": "markdown",
   "metadata": {},
   "source": [
    "# For The Bit\n",
    "\n",
    "## 1. Getting my `fitbit` data\n",
    "### Part VI: Programmatically fetch all `fitbit` Aria weight logs\n",
    "\n",
    "\n",
    "I have a `fitbit` Aria scale!  I bought it from a cellist on Craigslist.  Let's programmatically fetch the data like anything else.  It goes without saying that you should probably have a `fitbit` Aria for this to work, although manually entered data could also work."
   ]
  },
  {
   "cell_type": "code",
   "execution_count": 1,
   "metadata": {
    "collapsed": true
   },
   "outputs": [],
   "source": [
    "import json\n",
    "import pandas as pd\n",
    "import requests\n",
    "import os.path\n",
    "import time"
   ]
  },
  {
   "cell_type": "markdown",
   "metadata": {},
   "source": [
    "From my API access code (this is a secret!)"
   ]
  },
  {
   "cell_type": "code",
   "execution_count": 2,
   "metadata": {
    "collapsed": true
   },
   "outputs": [],
   "source": [
    "with open('../curl_key.txt', 'r') as f:\n",
    "    secret_key = f.readline()"
   ]
  },
  {
   "cell_type": "code",
   "execution_count": 3,
   "metadata": {
    "collapsed": true
   },
   "outputs": [],
   "source": [
    "headers = {'Authorization': 'Bearer {}'.format(secret_key)}"
   ]
  },
  {
   "cell_type": "markdown",
   "metadata": {},
   "source": [
    "Construct a list of the dates I want.  I got my Aria on: `2017-03-13`"
   ]
  },
  {
   "cell_type": "code",
   "execution_count": 4,
   "metadata": {
    "collapsed": false
   },
   "outputs": [],
   "source": [
    "today = time.strftime(\"%Y-%m-%d\")\n",
    "date_ids = pd.date_range(start='20170312', end=today)\n",
    "date_strs = date_ids.strftime(\"%Y-%m-%d\")"
   ]
  },
  {
   "cell_type": "markdown",
   "metadata": {},
   "source": [
    "Mimic a directory structure for each user, with subdirectories as below:"
   ]
  },
  {
   "cell_type": "code",
   "execution_count": 5,
   "metadata": {
    "collapsed": false
   },
   "outputs": [
    {
     "name": "stdout",
     "output_type": "stream",
     "text": [
      "\u001b[01;34m../data/gully/\u001b[00m\r\n",
      "├── \u001b[01;34mexercise\u001b[00m\r\n",
      "│   ├── \u001b[01;34mHR\u001b[00m\r\n",
      "│   ├── \u001b[01;34mlogs\u001b[00m\r\n",
      "│   └── \u001b[01;34mtcx\u001b[00m\r\n",
      "├── \u001b[01;34mintraday\u001b[00m\r\n",
      "│   ├── \u001b[01;34mHR\u001b[00m\r\n",
      "│   ├── \u001b[01;34msleep\u001b[00m\r\n",
      "│   └── \u001b[01;34msteps\u001b[00m\r\n",
      "└── \u001b[01;34mweight\u001b[00m\r\n",
      "    ├── \u001b[01;34mlogs\u001b[00m\r\n",
      "    └── \u001b[01;34mts\u001b[00m\r\n",
      "\r\n",
      "11 directories\r\n"
     ]
    }
   ],
   "source": [
    "! tree -d ../data/gully/"
   ]
  },
  {
   "cell_type": "markdown",
   "metadata": {},
   "source": [
    "Employ a file naming convention that preserves metadata:  \n",
    "- **{activity}\\_{%Y-%m-%d}\\_{timespan}\\_{time-resolution}.json**  \n",
    "\n",
    "So for example:\n",
    "- steps_2017-01-23_1d_1min.json\n",
    "- HR_2017-01-23_1d_1min.json\n",
    "- sleep_2017-01-23_1d_1min.json"
   ]
  },
  {
   "cell_type": "markdown",
   "metadata": {},
   "source": [
    "## Logs"
   ]
  },
  {
   "cell_type": "markdown",
   "metadata": {},
   "source": [
    "### Fat logs"
   ]
  },
  {
   "cell_type": "code",
   "execution_count": 6,
   "metadata": {
    "collapsed": false
   },
   "outputs": [],
   "source": [
    "for i, date in enumerate(date_strs):\n",
    "    query_str = \"https://api.fitbit.com/1/user/-/body/log/fat/date/{}.json\".format(date)\n",
    "    local_file = 'fat_'+date+'.json'\n",
    "    full_path = '../data/gully/weight/logs/'+local_file\n",
    "    # Only make a query if we don't already have the file.\n",
    "    if not os.path.isfile(full_path): \n",
    "        response = requests.get(query_str, headers=headers)\n",
    "        print(i, local_file, response.status_code)\n",
    "        with open(full_path, 'w') as f:\n",
    "            json.dump(response.json(), f)"
   ]
  },
  {
   "cell_type": "markdown",
   "metadata": {},
   "source": [
    "### Weight and BMI logs"
   ]
  },
  {
   "cell_type": "code",
   "execution_count": 7,
   "metadata": {
    "collapsed": false
   },
   "outputs": [],
   "source": [
    "for i, date in enumerate(date_strs):\n",
    "    query_str = \"https://api.fitbit.com/1/user/-/body/log/weight/date/{}.json\".format(date)\n",
    "    local_file = 'weight_'+date+'.json'\n",
    "    full_path = '../data/gully/weight/logs/'+local_file\n",
    "    # Only make a query if we don't already have the file.\n",
    "    if not os.path.isfile(full_path): \n",
    "        response = requests.get(query_str, headers=headers)\n",
    "        print(i, local_file, response.status_code)\n",
    "        with open(full_path, 'w') as f:\n",
    "            json.dump(response.json(), f)"
   ]
  },
  {
   "cell_type": "markdown",
   "metadata": {},
   "source": [
    "### Time series files are less useful-- \n",
    "They do not have the timestamp, only the daily average"
   ]
  },
  {
   "cell_type": "markdown",
   "metadata": {},
   "source": [
    "### Fat"
   ]
  },
  {
   "cell_type": "code",
   "execution_count": 8,
   "metadata": {
    "collapsed": false
   },
   "outputs": [],
   "source": [
    "query_str = \"https://api.fitbit.com/1/user/-/body/fat/date/2017-03-13/2017-03-16.json\"\n",
    "local_file = 'fat_ts_2017.json'\n",
    "full_path = '../data/gully/weight/ts/'+local_file\n",
    "# Only make a query if we don't already have the file.\n",
    "if not os.path.isfile(full_path): \n",
    "    response = requests.get(query_str, headers=headers)\n",
    "    print(i, local_file, response.status_code)\n",
    "    with open(full_path, 'w') as f:\n",
    "        json.dump(response.json(), f)"
   ]
  },
  {
   "cell_type": "markdown",
   "metadata": {},
   "source": [
    "### Weight"
   ]
  },
  {
   "cell_type": "code",
   "execution_count": 9,
   "metadata": {
    "collapsed": false
   },
   "outputs": [],
   "source": [
    "query_str = \"https://api.fitbit.com/1/user/-/body/weight/date/2017-03-13/2017-03-16.json\"\n",
    "local_file = 'weight_ts_2017.json'\n",
    "full_path = '../data/gully/weight/ts/'+local_file\n",
    "# Only make a query if we don't already have the file.\n",
    "if not os.path.isfile(full_path): \n",
    "    response = requests.get(query_str, headers=headers)\n",
    "    print(i, local_file, response.status_code)\n",
    "    with open(full_path, 'w') as f:\n",
    "        json.dump(response.json(), f)"
   ]
  },
  {
   "cell_type": "code",
   "execution_count": 10,
   "metadata": {
    "collapsed": false
   },
   "outputs": [],
   "source": [
    "query_str = \"https://api.fitbit.com/1/user/-/body/bmi/date/2017-03-13/2017-03-16.json\"\n",
    "local_file = 'bmi_ts_2017.json'\n",
    "full_path = '../data/gully/weight/ts/'+local_file\n",
    "# Only make a query if we don't already have the file.\n",
    "if not os.path.isfile(full_path): \n",
    "    response = requests.get(query_str, headers=headers)\n",
    "    print(i, local_file, response.status_code)\n",
    "    with open(full_path, 'w') as f:\n",
    "        json.dump(response.json(), f)"
   ]
  },
  {
   "cell_type": "markdown",
   "metadata": {},
   "source": [
    "All done!"
   ]
  }
 ],
 "metadata": {
  "kernelspec": {
   "display_name": "Python 3",
   "language": "python",
   "name": "python3"
  },
  "language_info": {
   "codemirror_mode": {
    "name": "ipython",
    "version": 3
   },
   "file_extension": ".py",
   "mimetype": "text/x-python",
   "name": "python",
   "nbconvert_exporter": "python",
   "pygments_lexer": "ipython3",
   "version": "3.4.5"
  }
 },
 "nbformat": 4,
 "nbformat_minor": 0
}
